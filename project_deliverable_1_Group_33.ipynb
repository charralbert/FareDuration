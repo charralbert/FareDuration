{
 "cells": [
  {
   "cell_type": "markdown",
   "id": "ddc696bb",
   "metadata": {},
   "source": [
    "# Project Deliverable 1 - Group 33\n",
    "\n",
    "Group Members: Bethany Findlay, Charlotte Albert, Kaykay Akpama, Kosi Udechukwu"
   ]
  },
  {
   "cell_type": "markdown",
   "id": "a361d596",
   "metadata": {},
   "source": [
    "## Dataset Choice\n",
    "o Select one dataset challenge from the Kaggle pool (see below).\n",
    "\n",
    "o Explain why your team chose this dataset: interest, feasibility, data type, potential for learning, etc."
   ]
  },
  {
   "cell_type": "markdown",
   "id": "c8b53d84",
   "metadata": {},
   "source": [
    "## Data Dictionary\n",
    "o Document the features (input variables) and target variable.\n",
    "\n",
    "o Describe each feature in your own words using the Kaggle dataset description or metadata from other sources.\n",
    "\n",
    "o Include units (if applicable) and note categorical vs. numerical variables."
   ]
  },
  {
   "cell_type": "markdown",
   "id": "148fbcde",
   "metadata": {},
   "source": [
    "## Exploratory Data Analysis (EDA)\n",
    "\n",
    "o Summarize dataset size and structure.\n",
    "\n",
    "o Provide descriptive statistics for numerical features.\n",
    "\n",
    "o Show distributions and visualizations of key variables.\n",
    "\n",
    "o Check for missing values, outliers, or anomalies.\n",
    "\n",
    "o Explore correlations or relationships among features."
   ]
  },
  {
   "cell_type": "markdown",
   "id": "b23debad",
   "metadata": {},
   "source": [
    "Install dependencies and read dataset as df"
   ]
  },
  {
   "cell_type": "code",
   "execution_count": 3,
   "id": "4d86fffc",
   "metadata": {},
   "outputs": [],
   "source": [
    "import pandas as pd \n",
    "import numpy as np \n",
    "import matplotlib.pyplot as plt \n",
    "import seaborn as sns\n",
    "\n",
    "# read the CSV\n",
    "df = pd.read_csv('train.csv')"
   ]
  },
  {
   "cell_type": "markdown",
   "id": "c39cdbb4",
   "metadata": {},
   "source": [
    "# Summarize dataset size and structure\n",
    "The dataset has the following columns:\n",
    "- id (object): the unique identifier for each trip\n",
    "- vendor_id (integer): the code indicating the provider associated with the trip record\n",
    "- pickup_datetime (object): date and time when the meter was engaged\n",
    "- dropoff_datetime (object): date and time when the meter was disengaged\n",
    "- passenger_count (integer): the number of passengers in the vehicle, entered by driver\n",
    "- pickup_longitude (float): longitude where the meter was engaged\n",
    "- pickup_latitude (float): latitude where the meter was engaged\n",
    "- dropoff_longitude (float): the longitude where the meter was disengaged\n",
    "- dropoff_latitude (float): the latitude where the meter was disengaged\n",
    "- store_and_fwd_flag (object): indicates whether the trip record was held in vehicle memory before sending to the vender because the vehicle did not have a connection to the server. \n",
    "Y = store and forward; N = not a store and forward trip\n",
    "- trip_duration (int): duration of the trip in seconds"
   ]
  },
  {
   "cell_type": "code",
   "execution_count": 4,
   "id": "ddea1e20",
   "metadata": {},
   "outputs": [
    {
     "name": "stdout",
     "output_type": "stream",
     "text": [
      "          id  vendor_id      pickup_datetime     dropoff_datetime  \\\n",
      "0  id2875421          2  2016-03-14 17:24:55  2016-03-14 17:32:30   \n",
      "1  id2377394          1  2016-06-12 00:43:35  2016-06-12 00:54:38   \n",
      "2  id3858529          2  2016-01-19 11:35:24  2016-01-19 12:10:48   \n",
      "3  id3504673          2  2016-04-06 19:32:31  2016-04-06 19:39:40   \n",
      "4  id2181028          2  2016-03-26 13:30:55  2016-03-26 13:38:10   \n",
      "\n",
      "   passenger_count  pickup_longitude  pickup_latitude  dropoff_longitude  \\\n",
      "0                1        -73.982155        40.767937         -73.964630   \n",
      "1                1        -73.980415        40.738564         -73.999481   \n",
      "2                1        -73.979027        40.763939         -74.005333   \n",
      "3                1        -74.010040        40.719971         -74.012268   \n",
      "4                1        -73.973053        40.793209         -73.972923   \n",
      "\n",
      "   dropoff_latitude store_and_fwd_flag  trip_duration  \n",
      "0         40.765602                  N            455  \n",
      "1         40.731152                  N            663  \n",
      "2         40.710087                  N           2124  \n",
      "3         40.706718                  N            429  \n",
      "4         40.782520                  N            435  \n"
     ]
    },
    {
     "data": {
      "text/plain": [
       "(1458644, 11)"
      ]
     },
     "execution_count": 4,
     "metadata": {},
     "output_type": "execute_result"
    }
   ],
   "source": [
    "print(df.head())\n",
    "# number of rows and columns\n",
    "df.shape"
   ]
  },
  {
   "cell_type": "code",
   "execution_count": 5,
   "id": "4f98f90f",
   "metadata": {},
   "outputs": [
    {
     "name": "stdout",
     "output_type": "stream",
     "text": [
      "<class 'pandas.core.frame.DataFrame'>\n",
      "RangeIndex: 1458644 entries, 0 to 1458643\n",
      "Data columns (total 11 columns):\n",
      " #   Column              Non-Null Count    Dtype  \n",
      "---  ------              --------------    -----  \n",
      " 0   id                  1458644 non-null  object \n",
      " 1   vendor_id           1458644 non-null  int64  \n",
      " 2   pickup_datetime     1458644 non-null  object \n",
      " 3   dropoff_datetime    1458644 non-null  object \n",
      " 4   passenger_count     1458644 non-null  int64  \n",
      " 5   pickup_longitude    1458644 non-null  float64\n",
      " 6   pickup_latitude     1458644 non-null  float64\n",
      " 7   dropoff_longitude   1458644 non-null  float64\n",
      " 8   dropoff_latitude    1458644 non-null  float64\n",
      " 9   store_and_fwd_flag  1458644 non-null  object \n",
      " 10  trip_duration       1458644 non-null  int64  \n",
      "dtypes: float64(4), int64(3), object(4)\n",
      "memory usage: 122.4+ MB\n"
     ]
    }
   ],
   "source": [
    "# show number of records in each column, type of data, and missing values\n",
    "df.info()"
   ]
  },
  {
   "cell_type": "markdown",
   "id": "bfcaa9ae-b46f-45f8-bd3c-9773b071c281",
   "metadata": {},
   "source": [
    " ## Provide descriptive statistics for numerical features"
   ]
  },
  {
   "cell_type": "code",
   "execution_count": 6,
   "id": "5c6f3081",
   "metadata": {},
   "outputs": [
    {
     "data": {
      "text/html": [
       "<div>\n",
       "<style scoped>\n",
       "    .dataframe tbody tr th:only-of-type {\n",
       "        vertical-align: middle;\n",
       "    }\n",
       "\n",
       "    .dataframe tbody tr th {\n",
       "        vertical-align: top;\n",
       "    }\n",
       "\n",
       "    .dataframe thead th {\n",
       "        text-align: right;\n",
       "    }\n",
       "</style>\n",
       "<table border=\"1\" class=\"dataframe\">\n",
       "  <thead>\n",
       "    <tr style=\"text-align: right;\">\n",
       "      <th></th>\n",
       "      <th>id</th>\n",
       "      <th>vendor_id</th>\n",
       "      <th>pickup_datetime</th>\n",
       "      <th>dropoff_datetime</th>\n",
       "      <th>passenger_count</th>\n",
       "      <th>pickup_longitude</th>\n",
       "      <th>pickup_latitude</th>\n",
       "      <th>dropoff_longitude</th>\n",
       "      <th>dropoff_latitude</th>\n",
       "      <th>store_and_fwd_flag</th>\n",
       "      <th>trip_duration</th>\n",
       "    </tr>\n",
       "  </thead>\n",
       "  <tbody>\n",
       "    <tr>\n",
       "      <th>count</th>\n",
       "      <td>1458644</td>\n",
       "      <td>1.458644e+06</td>\n",
       "      <td>1458644</td>\n",
       "      <td>1458644</td>\n",
       "      <td>1.458644e+06</td>\n",
       "      <td>1.458644e+06</td>\n",
       "      <td>1.458644e+06</td>\n",
       "      <td>1.458644e+06</td>\n",
       "      <td>1.458644e+06</td>\n",
       "      <td>1458644</td>\n",
       "      <td>1.458644e+06</td>\n",
       "    </tr>\n",
       "    <tr>\n",
       "      <th>unique</th>\n",
       "      <td>1458644</td>\n",
       "      <td>NaN</td>\n",
       "      <td>1380222</td>\n",
       "      <td>1380377</td>\n",
       "      <td>NaN</td>\n",
       "      <td>NaN</td>\n",
       "      <td>NaN</td>\n",
       "      <td>NaN</td>\n",
       "      <td>NaN</td>\n",
       "      <td>2</td>\n",
       "      <td>NaN</td>\n",
       "    </tr>\n",
       "    <tr>\n",
       "      <th>top</th>\n",
       "      <td>id2875421</td>\n",
       "      <td>NaN</td>\n",
       "      <td>2016-03-04 08:07:34</td>\n",
       "      <td>2016-02-19 19:25:04</td>\n",
       "      <td>NaN</td>\n",
       "      <td>NaN</td>\n",
       "      <td>NaN</td>\n",
       "      <td>NaN</td>\n",
       "      <td>NaN</td>\n",
       "      <td>N</td>\n",
       "      <td>NaN</td>\n",
       "    </tr>\n",
       "    <tr>\n",
       "      <th>freq</th>\n",
       "      <td>1</td>\n",
       "      <td>NaN</td>\n",
       "      <td>5</td>\n",
       "      <td>5</td>\n",
       "      <td>NaN</td>\n",
       "      <td>NaN</td>\n",
       "      <td>NaN</td>\n",
       "      <td>NaN</td>\n",
       "      <td>NaN</td>\n",
       "      <td>1450599</td>\n",
       "      <td>NaN</td>\n",
       "    </tr>\n",
       "    <tr>\n",
       "      <th>mean</th>\n",
       "      <td>NaN</td>\n",
       "      <td>1.534950e+00</td>\n",
       "      <td>NaN</td>\n",
       "      <td>NaN</td>\n",
       "      <td>1.664530e+00</td>\n",
       "      <td>-7.397349e+01</td>\n",
       "      <td>4.075092e+01</td>\n",
       "      <td>-7.397342e+01</td>\n",
       "      <td>4.075180e+01</td>\n",
       "      <td>NaN</td>\n",
       "      <td>9.594923e+02</td>\n",
       "    </tr>\n",
       "    <tr>\n",
       "      <th>std</th>\n",
       "      <td>NaN</td>\n",
       "      <td>4.987772e-01</td>\n",
       "      <td>NaN</td>\n",
       "      <td>NaN</td>\n",
       "      <td>1.314242e+00</td>\n",
       "      <td>7.090186e-02</td>\n",
       "      <td>3.288119e-02</td>\n",
       "      <td>7.064327e-02</td>\n",
       "      <td>3.589056e-02</td>\n",
       "      <td>NaN</td>\n",
       "      <td>5.237432e+03</td>\n",
       "    </tr>\n",
       "    <tr>\n",
       "      <th>min</th>\n",
       "      <td>NaN</td>\n",
       "      <td>1.000000e+00</td>\n",
       "      <td>NaN</td>\n",
       "      <td>NaN</td>\n",
       "      <td>0.000000e+00</td>\n",
       "      <td>-1.219333e+02</td>\n",
       "      <td>3.435970e+01</td>\n",
       "      <td>-1.219333e+02</td>\n",
       "      <td>3.218114e+01</td>\n",
       "      <td>NaN</td>\n",
       "      <td>1.000000e+00</td>\n",
       "    </tr>\n",
       "    <tr>\n",
       "      <th>25%</th>\n",
       "      <td>NaN</td>\n",
       "      <td>1.000000e+00</td>\n",
       "      <td>NaN</td>\n",
       "      <td>NaN</td>\n",
       "      <td>1.000000e+00</td>\n",
       "      <td>-7.399187e+01</td>\n",
       "      <td>4.073735e+01</td>\n",
       "      <td>-7.399133e+01</td>\n",
       "      <td>4.073588e+01</td>\n",
       "      <td>NaN</td>\n",
       "      <td>3.970000e+02</td>\n",
       "    </tr>\n",
       "    <tr>\n",
       "      <th>50%</th>\n",
       "      <td>NaN</td>\n",
       "      <td>2.000000e+00</td>\n",
       "      <td>NaN</td>\n",
       "      <td>NaN</td>\n",
       "      <td>1.000000e+00</td>\n",
       "      <td>-7.398174e+01</td>\n",
       "      <td>4.075410e+01</td>\n",
       "      <td>-7.397975e+01</td>\n",
       "      <td>4.075452e+01</td>\n",
       "      <td>NaN</td>\n",
       "      <td>6.620000e+02</td>\n",
       "    </tr>\n",
       "    <tr>\n",
       "      <th>75%</th>\n",
       "      <td>NaN</td>\n",
       "      <td>2.000000e+00</td>\n",
       "      <td>NaN</td>\n",
       "      <td>NaN</td>\n",
       "      <td>2.000000e+00</td>\n",
       "      <td>-7.396733e+01</td>\n",
       "      <td>4.076836e+01</td>\n",
       "      <td>-7.396301e+01</td>\n",
       "      <td>4.076981e+01</td>\n",
       "      <td>NaN</td>\n",
       "      <td>1.075000e+03</td>\n",
       "    </tr>\n",
       "    <tr>\n",
       "      <th>max</th>\n",
       "      <td>NaN</td>\n",
       "      <td>2.000000e+00</td>\n",
       "      <td>NaN</td>\n",
       "      <td>NaN</td>\n",
       "      <td>9.000000e+00</td>\n",
       "      <td>-6.133553e+01</td>\n",
       "      <td>5.188108e+01</td>\n",
       "      <td>-6.133553e+01</td>\n",
       "      <td>4.392103e+01</td>\n",
       "      <td>NaN</td>\n",
       "      <td>3.526282e+06</td>\n",
       "    </tr>\n",
       "  </tbody>\n",
       "</table>\n",
       "</div>"
      ],
      "text/plain": [
       "               id     vendor_id      pickup_datetime     dropoff_datetime  \\\n",
       "count     1458644  1.458644e+06              1458644              1458644   \n",
       "unique    1458644           NaN              1380222              1380377   \n",
       "top     id2875421           NaN  2016-03-04 08:07:34  2016-02-19 19:25:04   \n",
       "freq            1           NaN                    5                    5   \n",
       "mean          NaN  1.534950e+00                  NaN                  NaN   \n",
       "std           NaN  4.987772e-01                  NaN                  NaN   \n",
       "min           NaN  1.000000e+00                  NaN                  NaN   \n",
       "25%           NaN  1.000000e+00                  NaN                  NaN   \n",
       "50%           NaN  2.000000e+00                  NaN                  NaN   \n",
       "75%           NaN  2.000000e+00                  NaN                  NaN   \n",
       "max           NaN  2.000000e+00                  NaN                  NaN   \n",
       "\n",
       "        passenger_count  pickup_longitude  pickup_latitude  dropoff_longitude  \\\n",
       "count      1.458644e+06      1.458644e+06     1.458644e+06       1.458644e+06   \n",
       "unique              NaN               NaN              NaN                NaN   \n",
       "top                 NaN               NaN              NaN                NaN   \n",
       "freq                NaN               NaN              NaN                NaN   \n",
       "mean       1.664530e+00     -7.397349e+01     4.075092e+01      -7.397342e+01   \n",
       "std        1.314242e+00      7.090186e-02     3.288119e-02       7.064327e-02   \n",
       "min        0.000000e+00     -1.219333e+02     3.435970e+01      -1.219333e+02   \n",
       "25%        1.000000e+00     -7.399187e+01     4.073735e+01      -7.399133e+01   \n",
       "50%        1.000000e+00     -7.398174e+01     4.075410e+01      -7.397975e+01   \n",
       "75%        2.000000e+00     -7.396733e+01     4.076836e+01      -7.396301e+01   \n",
       "max        9.000000e+00     -6.133553e+01     5.188108e+01      -6.133553e+01   \n",
       "\n",
       "        dropoff_latitude store_and_fwd_flag  trip_duration  \n",
       "count       1.458644e+06            1458644   1.458644e+06  \n",
       "unique               NaN                  2            NaN  \n",
       "top                  NaN                  N            NaN  \n",
       "freq                 NaN            1450599            NaN  \n",
       "mean        4.075180e+01                NaN   9.594923e+02  \n",
       "std         3.589056e-02                NaN   5.237432e+03  \n",
       "min         3.218114e+01                NaN   1.000000e+00  \n",
       "25%         4.073588e+01                NaN   3.970000e+02  \n",
       "50%         4.075452e+01                NaN   6.620000e+02  \n",
       "75%         4.076981e+01                NaN   1.075000e+03  \n",
       "max         4.392103e+01                NaN   3.526282e+06  "
      ]
     },
     "execution_count": 6,
     "metadata": {},
     "output_type": "execute_result"
    }
   ],
   "source": [
    "# statistical summary (count, mean, std, min, max, quartiles)\n",
    "df.describe(include = \"all\")"
   ]
  },
  {
   "cell_type": "code",
   "execution_count": 7,
   "id": "972358b9",
   "metadata": {},
   "outputs": [
    {
     "data": {
      "text/plain": [
       "0"
      ]
     },
     "execution_count": 7,
     "metadata": {},
     "output_type": "execute_result"
    }
   ],
   "source": [
    "# ensure the object data types are converted to standard datetime format\n",
    "df['pickup_datetime'] = pd.to_datetime(df['pickup_datetime'], errors='coerce')\n",
    "df['dropoff_datetime'] = pd.to_datetime(df['dropoff_datetime'], errors='coerce')\n",
    "# check if there are values that could not be converted\n",
    "df['pickup_datetime'].isna().sum()\n",
    "df['dropoff_datetime'].isna().sum()"
   ]
  },
  {
   "cell_type": "markdown",
   "id": "f700e1f7",
   "metadata": {},
   "source": [
    "### Show distributions and visualizations of key variables"
   ]
  },
  {
   "cell_type": "code",
   "execution_count": 8,
   "id": "77ed37fe",
   "metadata": {},
   "outputs": [
    {
     "data": {
      "text/plain": [
       "<Axes: xlabel='passenger_count', ylabel='Count'>"
      ]
     },
     "execution_count": 8,
     "metadata": {},
     "output_type": "execute_result"
    },
    {
     "data": {
      "image/png": "[encoded data removed]",
      "text/plain": [
       "<Figure size 640x480 with 1 Axes>"
      ]
     },
     "metadata": {},
     "output_type": "display_data"
    }
   ],
   "source": [
    "sns.histplot(df['passenger_count'])\n",
    "#sns.relplot(data=df, x=)\n"
   ]
  },
  {
   "cell_type": "code",
   "execution_count": null,
   "id": "7a6baeca-076b-47ed-ac6b-f9d74cde5766",
   "metadata": {},
   "outputs": [],
   "source": [
    "import seaborn as sns\n",
    "import matplotlib.pyplot as plt\n",
    "import pandas as pd\n",
    "\n",
    "df = pd.read_csv('train.csv')\n",
    "\n",
    "# Plot trip duration histogram\n",
    "sns.histplot(data=df, x='trip_duration', bins=100)\n",
    "plt.title('Trip Duration Distribution')\n",
    "plt.xlabel('Trip Duration (seconds)')\n",
    "plt.ylabel('Frequency')\n",
    "plt.show()\n",
    "\n",
    "sns.histplot(data=df, x='pickup_datetime', bins=100)\n",
    "plt.title('Pick up Date Time Distribution')\n"
   ]
  },
  {
   "cell_type": "markdown",
   "id": "b1070efd",
   "metadata": {},
   "source": [
    "This histogram shows the distribution of the taxi trip durations in the data set. The majority of trips are on the lower end (1 hour or less) with the max being 3.5 million seconds (40 days). Due to this heavy skew and and presence of significant outliers the analysis of trips were limited to one hour so useful and readable data could be drawn from it. "
   ]
  },
  {
   "cell_type": "code",
   "execution_count": null,
   "id": "450456c5-edaf-4101-8186-88ec99372613",
   "metadata": {},
   "outputs": [],
   "source": [
    "# filter trips less than or equal to 1 hour (3600 seconds) to get more useful data \n",
    "import seaborn as sns\n",
    "import matplotlib.pyplot as plt\n",
    "import pandas as pd\n",
    "\n",
    "df = pd.read_csv('train.csv')\n",
    "df_under_1hr = df[df['trip_duration'] <= 3600]\n",
    "sns.histplot(df_under_1hr['trip_duration'], bins=100)\n",
    "plt.title('Trip Duration Distribution (Trips ≤ 1 Hour)')"
   ]
  },
  {
   "cell_type": "code",
   "execution_count": null,
   "id": "c669e983-6627-4fd3-bfec-57fb2e65ae24",
   "metadata": {},
   "outputs": [],
   "source": [
    "sns.histplot(data=df, x='pickup_datetime', bins=100)\n",
    "plt.title('Pick up Date Time Distribution')\n",
    "plt.show()\n"
   ]
  },
  {
   "cell_type": "markdown",
   "id": "20816073",
   "metadata": {},
   "source": [
    "The trip_duration is right-skewed, meaning most trips are short, but a few long trips pull the distribution’s tail to the right. This means that passengers in NYC have many quick rides. This will impact modeling and require transformation or filtering."
   ]
  },
  {
   "cell_type": "code",
   "execution_count": null,
   "id": "ce5feaa4-7fb8-4a04-abb2-c1ec6e27ddd0",
   "metadata": {},
   "outputs": [],
   "source": [
    "#identify number of trips that are longer than 3 hours(unusual likely error)\n",
    "long_trips = df[df['trip_duration'] > 10800]    \n",
    "print(f\"Trips longer than 3 hours: {len(long_trips)}\")"
   ]
  },
  {
   "cell_type": "code",
   "execution_count": null,
   "id": "77383609-a68e-4d49-94ce-dac977ac6c0b",
   "metadata": {},
   "outputs": [],
   "source": [
    "#identify number of trips that are under a minute(unusual likely error)\n",
    "short_trips = df[df['trip_duration'] < 60]\n",
    "print(f\"Trips shorter than 1 minute: {len(short_trips)}\")"
   ]
  },
  {
   "cell_type": "markdown",
   "id": "432404ab",
   "metadata": {},
   "source": [
    "These are likely outliers or data errors as typical NYC trips are much shorter, however the likelilhood of someone taking a trip under one minute is extremely low. These trips may need to be removed or investigated further to avoid skewing analysis or predictions"
   ]
  },
  {
   "cell_type": "code",
   "execution_count": null,
   "id": "96e302f6-62d2-4fe2-ade6-5f5732fd108b",
   "metadata": {},
   "outputs": [],
   "source": [
    "# identify trips with passenger counts that are 0 and passenger counts over 6(unusual likely error)\n",
    "print(df[df['passenger_count'] == 0].shape[0])\n",
    "print(df[df['passenger_count'] > 6].shape[0])"
   ]
  },
  {
   "cell_type": "code",
   "execution_count": null,
   "id": "ad7340f2-8d14-42e8-8ec5-c3095835f53e",
   "metadata": {},
   "outputs": [],
   "source": [
    "#identify trips whose pickup are outside of the longitude/latitude of NYC (40.5° N to 40.9° N latitude and -74.27° W to -73.68° W longitude)\n",
    "invalid_pickup = df[\n",
    "    (df['pickup_longitude'] < -74.27) | (df['pickup_longitude'] > -73.68) |\n",
    "    (df['pickup_latitude'] < 40.5) | (df['pickup_latitude'] > 40.9)\n",
    "]\n",
    "\n",
    "print(f\"Invalid pickup coordinates: {len(invalid_pickup)}\")"
   ]
  },
  {
   "cell_type": "markdown",
   "id": "f97c4979",
   "metadata": {},
   "source": [
    "Identified pickup locations that fall outside the geographical bounds of NYC (latitudes between 40.5° N and 40.9° N, longitudes between -74.27° W and -73.68° W). These out-of-bound coordinates likely indicate data entry errors or GPS issues. These records were flagged as invalid and may need to be removed or corrected before modeling."
   ]
  },
  {
   "cell_type": "code",
   "execution_count": null,
   "id": "f808675f-c1d4-45f5-b98f-73e37e882b17",
   "metadata": {},
   "outputs": [],
   "source": [
    "#identify the relationship between the pickup hour and the trip duration\n",
    "df['pickup_datetime'] = pd.to_datetime(df['pickup_datetime'], errors='coerce')\n",
    "df = df.dropna(subset=['pickup_datetime'])\n",
    "df['pickup_hour'] = df['pickup_datetime'].dt.hour\n",
    "df_under_1hr['pickup_datetime'] = pd.to_datetime(df_under_1hr['pickup_datetime'], errors='coerce')\n",
    "df_under_1hr = df_under_1hr.dropna(subset=['pickup_datetime'])\n",
    "df_under_1hr['pickup_hour'] = df_under_1hr['pickup_datetime'].dt.hour\n",
    "\n",
    "sns.boxplot(x='pickup_hour', y='trip_duration', data=df_under_1hr)\n",
    "plt.title(\"Trip Duration vs Pickup Hour (Trips ≤ 1 Hour)\")\n"
   ]
  },
  {
   "cell_type": "markdown",
   "id": "ad1f74a7",
   "metadata": {},
   "source": [
    "This boxplot visualizes the distribution of trip durations (under 1 hour) across different hours of the day. Each box represents the spread of trip durations for a given hour, from 0 (midnight) to 23 (11 PM). It can be observed that trip durations are shorter during late night and early morning hours likely due to less traffic. Durations increase during commuting and day time hours which may reflect rush hour traffic and daytime congestion. Trip duration then gradually decrease into the evening and the night. "
   ]
  },
  {
   "cell_type": "code",
   "execution_count": null,
   "id": "5e20c479-cc37-4258-a118-4dc7050c99e1",
   "metadata": {},
   "outputs": [],
   "source": [
    "df_sample = df[df['trip_duration'] <= 3600].sample(100000)\n",
    "\n",
    "#pick up location vs trip duration \n",
    "plt.figure(figsize=(10, 8))\n",
    "hb = plt.hexbin(\n",
    "    x=df_sample['pickup_longitude'],\n",
    "    y=df_sample['pickup_latitude'],\n",
    "    C=df_sample['trip_duration'],  \n",
    "    gridsize=250,\n",
    "    cmap='coolwarm'\n",
    ")\n",
    "plt.colorbar(hb, label='Trip Duration (seconds)')\n",
    "plt.title(\"Trip Duration by Pickup Location (Trips ≤ 1 Hour)\")\n",
    "\n",
    "# NYC Coordinate bounds\n",
    "plt.xlim(-74.27, -73.68)\n",
    "plt.ylim(40.5, 40.9)\n"
   ]
  },
  {
   "cell_type": "markdown",
   "id": "28f1bfb3",
   "metadata": {},
   "source": [
    "This hexbin plot shows spatial distrubution of trip durations accross different pickup locations within NYC the darker hexagons show areas with longer trip durations, while th eblue hexagons indicate shorter trips. Manhattan is located aorund -73.98 longitude and 40.75 latitude and as we can see there is a higher average trip duration around that area. This could be because that is a busier area so it hsa higher traffic and more frequent stops. Additionally, areas that are less popular show shorter durations, possibly showing quicker travels through less congested zones. The geographic insight can be useful in understanding how location affects trip time. "
   ]
  },
  {
   "cell_type": "code",
   "execution_count": null,
   "id": "da261302-6b64-464f-8803-025aaec5077a",
   "metadata": {},
   "outputs": [],
   "source": [
    "df_under_1hr['pickup_day'] = df_under_1hr['pickup_datetime'].dt.day_name()\n",
    "sns.boxplot(x='pickup_day', y='trip_duration', data=df_under_1hr, order=[\n",
    "    'Monday', 'Tuesday', 'Wednesday', 'Thursday', 'Friday', 'Saturday', 'Sunday'])\n",
    "plt.title(\"Trip Duration vs Day of Week (Trips ≤ 1 Hour)\")\n",
    "plt.xticks(rotation=90)\n"
   ]
  },
  {
   "cell_type": "markdown",
   "id": "bfc271c7",
   "metadata": {},
   "source": [
    "This boxplot illustrates how trip durations (for trips under 1 hour) vary across different days of the week. The median trip duration appears relatively consistent from Monday to Friday, with slightly lower durations observed on weekends (Saturday and Sunday). The interquartile range (middle 50% of the data) is wider on weekdays, potentially due to regular commuting patterns. Weekends show a more compact distribution, possibly reflecting more consistent leisure or short-distance travel. Outliers are present across all days, but their frequency and spread are noticeably higher during weekdays.\n"
   ]
  },
  {
   "cell_type": "markdown",
   "id": "a8bb59fe",
   "metadata": {},
   "source": [
    "## Challenges and Strategies\n",
    "\n",
    "o Identify potential difficulties based on the EDA carried out in step 3 (eg., missing values, outliers, high dimensionality, multicollinearity, imbalance, noise, etc.).\n",
    "\n",
    "o Propose and apply potential strategies to address them (e.g., imputation, scaling, feature selection, etc.).\n"
   ]
  },
  {
   "cell_type": "markdown",
   "id": "f6722a6d",
   "metadata": {},
   "source": [
    "## Individual Contributions"
   ]
  }
 ],
 "metadata": {
  "kernelspec": {
   "display_name": "Python (taxi-eda)",
   "language": "python",
   "name": "taxi-eda"
  },
  "language_info": {
   "codemirror_mode": {
    "name": "ipython",
    "version": 3
   },
   "file_extension": ".py",
   "mimetype": "text/x-python",
   "name": "python",
   "nbconvert_exporter": "python",
   "pygments_lexer": "ipython3",
   "version": "3.11.4"
  }
 },
 "nbformat": 4,
 "nbformat_minor": 5
}
