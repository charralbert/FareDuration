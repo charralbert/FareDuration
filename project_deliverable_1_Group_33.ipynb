{
 "cells": [
  {
   "cell_type": "markdown",
   "id": "ddc696bb",
   "metadata": {},
   "source": [
    "# Project Deliverable 1 - Group 33\n",
    "\n",
    "Group Members: Bethany Findlay, Charlotte Albert, Kaykay Akpama, Kosi Udechukwu"
   ]
  },
  {
   "cell_type": "markdown",
   "id": "a361d596",
   "metadata": {},
   "source": [
    "## Dataset Choice\n",
    "o Select one dataset challenge from the Kaggle pool (see below).\n",
    "\n",
    "o Explain why your team chose this dataset: interest, feasibility, data type, potential for learning, etc."
   ]
  },
  {
   "cell_type": "markdown",
   "id": "c8b53d84",
   "metadata": {},
   "source": [
    "## Data Dictionary\n",
    "o Document the features (input variables) and target variable.\n",
    "\n",
    "o Describe each feature in your own words using the Kaggle dataset description or metadata from other sources.\n",
    "\n",
    "o Include units (if applicable) and note categorical vs. numerical variables."
   ]
  },
  {
   "cell_type": "markdown",
   "id": "148fbcde",
   "metadata": {},
   "source": [
    "## Exploratory Data Analysis (EDA)\n",
    "\n",
    "o Summarize dataset size and structure.\n",
    "\n",
    "o Provide descriptive statistics for numerical features.\n",
    "\n",
    "o Show distributions and visualizations of key variables.\n",
    "\n",
    "o Check for missing values, outliers, or anomalies.\n",
    "\n",
    "o Explore correlations or relationships among features."
   ]
  },
  {
   "cell_type": "markdown",
   "id": "a8bb59fe",
   "metadata": {},
   "source": [
    "## Challenges and Strategies\n",
    "\n",
    "o Identify potential difficulties based on the EDA carried out in step 3 (eg., missing values, outliers, high dimensionality, multicollinearity, imbalance, noise, etc.).\n",
    "\n",
    "o Propose and apply potential strategies to address them (e.g., imputation, scaling, feature selection, etc.).\n"
   ]
  },
  {
   "cell_type": "markdown",
   "id": "f6722a6d",
   "metadata": {},
   "source": [
    "## Individual Contributions"
   ]
  },
  {
   "cell_type": "markdown",
   "id": "8c681733",
   "metadata": {},
   "source": [
    "# hello"
   ]
  }
 ],
 "metadata": {
  "language_info": {
   "name": "python"
  }
 },
 "nbformat": 4,
 "nbformat_minor": 5
}
