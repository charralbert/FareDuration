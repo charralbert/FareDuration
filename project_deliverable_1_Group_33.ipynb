{
 "cells": [
  {
   "cell_type": "markdown",
   "id": "ddc696bb",
   "metadata": {},
   "source": [
    "Hi"
   ]
  }
 ],
 "metadata": {
  "language_info": {
   "name": "python"
  }
 },
 "nbformat": 4,
 "nbformat_minor": 5
}
